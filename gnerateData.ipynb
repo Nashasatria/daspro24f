import numpy as np
import pandas as pd

n_data = 10000
idTransaksi = np.random.randint(1, 10001, size = n_data)
tglTransaksi = np.random.randint(1,32, size = n_data)
blnTransaksi = np.random.randint(1,13, size = n_data)
thnTransaksi = np.random.randint(2022,2025, size = n_data)
usiaPembeli = np.random.randint(21,81, size = n_data)
beratBarang = np.random.randint(5,1000, size = n_data)
kaliTransaksi = np.random.randint(1,21, size = n_data)
waktuKirim = np.random.randint(1,15, size = n_data)
gender = np.random.choice(['L','P'], size = n_data)
ongkir = np.random.choice(['10000','20000','30000','40000','50000'], size = n_data)

df = pd.DataFrame({
    'ID Transaksi':idTransaksi,
    'Tanggal': tglTransaksi,
    'Bulan': blnTransaksi,
    'Tahun': thnTransaksi,
    'Usia Pembeli': usiaPembeli,
    'Gender': gender,
    'Berat Barang (gr)': beratBarang,
    'Berapa Kali Transaksi': kaliTransaksi,
    'Waktu Pengiriman (Hari)': waktuKirim,
    'Ongkos Kirim': ongkir
})

df.to_csv('dataLatihan.csv',index = False)
